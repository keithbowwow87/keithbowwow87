{
  "cells": [
    {
      "cell_type": "code",
      "execution_count": 1,
      "metadata": {
        "id": "U0dg5Z0jtRhe"
      },
      "outputs": [],
      "source": [
        "import geopandas as gpd\n",
        "import numpy as np\n",
        "from sklearn.model_selection import train_test_split\n",
        "\n",
        "url = \"https://naciscdn.org/naturalearth/110m/cultural/ne_110m_admin_0_countries.zip\"\n",
        "\n",
        "gdf = gpd.read_file(url)\n",
        "gdf = gdf.to_crs('EPSG:3857')  # 使用Web Mercator投影\n",
        "\n",
        "# Generate binary labels based on some criteria\n",
        "gdf['label'] = (gdf['POP_EST'] > 1e7).astype(int)\n",
        "\n",
        "# Extract centroid coordinates and create 'x' and 'y' columns\n",
        "gdf['x'] = gdf.geometry.centroid.x\n",
        "gdf['y'] = gdf.geometry.centroid.y\n",
        "\n",
        "# Prepare features and labels\n",
        "features = gdf[['x', 'y']].values\n",
        "labels = gdf['label'].values\n",
        "\n",
        "# Split data into training and testing\n",
        "x_train, x_test, y_train, y_test = train_test_split(features, labels, test_size=0.2, random_state=42)"
      ]
    },
    {
      "cell_type": "code",
      "execution_count": 2,
      "metadata": {
        "colab": {
          "base_uri": "https://localhost:8080/"
        },
        "id": "Skie6pFktd11",
        "outputId": "3b6069af-5e12-4354-da26-b686cd2bbedc"
      },
      "outputs": [
        {
          "output_type": "stream",
          "name": "stdout",
          "text": [
            "\u001b[1m5/5\u001b[0m \u001b[32m━━━━━━━━━━━━━━━━━━━━\u001b[0m\u001b[37m\u001b[0m \u001b[1m0s\u001b[0m 59ms/step\n"
          ]
        }
      ],
      "source": [
        "import tensorflow as tf\n",
        "from tensorflow.keras import layers, models\n",
        "\n",
        "def train_teacher_model(x_train, y_train):\n",
        "    teacher_model = models.Sequential([\n",
        "        layers.Input(shape=(2,)),  # 使用Input层代替input_shape\n",
        "        layers.Dense(128, activation='relu'),\n",
        "        layers.BatchNormalization(),  # 添加批归一化\n",
        "        layers.Dense(32, activation='relu'),\n",
        "        layers.Dense(1, activation='sigmoid')\n",
        "    ])\n",
        "    teacher_model.compile(optimizer='adam', loss='binary_crossentropy', metrics=['accuracy'])\n",
        "    # 添加early stopping和验证集\n",
        "    callbacks = [tf.keras.callbacks.EarlyStopping(patience=3, restore_best_weights=True)]\n",
        "    teacher_model.fit(x_train, y_train, epochs=50, batch_size=32,\n",
        "                     validation_split=0.2, callbacks=callbacks, verbose=0)\n",
        "    return teacher_model\n",
        "\n",
        "# Call the function to train the model and get the trained model\n",
        "teacher_model = train_teacher_model(x_train, y_train)\n",
        "\n",
        "# Predict soft labels with temperature scaling\n",
        "temperature = 5.0\n",
        "logits = teacher_model.predict(x_train) # Now teacher_model is defined\n",
        "soft_labels = tf.nn.sigmoid(logits / temperature).numpy()"
      ]
    },
    {
      "cell_type": "code",
      "execution_count": 3,
      "metadata": {
        "colab": {
          "base_uri": "https://localhost:8080/"
        },
        "id": "8evcupUvwSMN",
        "outputId": "8a6d5a89-f083-4553-d4bc-fb6e6e7575d9"
      },
      "outputs": [
        {
          "output_type": "stream",
          "name": "stderr",
          "text": [
            "INFO:distributed.http.proxy:To route to workers diagnostics web server please install jupyter-server-proxy: python -m pip install jupyter-server-proxy\n",
            "INFO:distributed.scheduler:State start\n",
            "INFO:distributed.scheduler:  Scheduler at:     tcp://127.0.0.1:33885\n",
            "INFO:distributed.scheduler:  dashboard at:  http://127.0.0.1:8787/status\n",
            "INFO:distributed.scheduler:Registering Worker plugin shuffle\n",
            "INFO:distributed.nanny:        Start Nanny at: 'tcp://127.0.0.1:38053'\n",
            "INFO:distributed.nanny:        Start Nanny at: 'tcp://127.0.0.1:35747'\n",
            "INFO:distributed.scheduler:Register worker addr: tcp://127.0.0.1:38887 name: 0\n",
            "INFO:distributed.scheduler:Starting worker compute stream, tcp://127.0.0.1:38887\n",
            "INFO:distributed.core:Starting established connection to tcp://127.0.0.1:42078\n",
            "INFO:distributed.scheduler:Register worker addr: tcp://127.0.0.1:41219 name: 1\n",
            "INFO:distributed.scheduler:Starting worker compute stream, tcp://127.0.0.1:41219\n",
            "INFO:distributed.core:Starting established connection to tcp://127.0.0.1:42090\n",
            "INFO:distributed.scheduler:Receive client connection: Client-ebdc5d35-48f7-11f0-821a-0242ac1c000c\n",
            "INFO:distributed.core:Starting established connection to tcp://127.0.0.1:42100\n"
          ]
        },
        {
          "output_type": "stream",
          "name": "stdout",
          "text": [
            "Best Parameters: (np.float64(0.07669452812601463), 32, np.float64(0.06902878515649957))\n"
          ]
        }
      ],
      "source": [
        "\n",
        "import dask\n",
        "from dask.distributed import Client, progress\n",
        "\n",
        "# Start a Dask client\n",
        "client = Client()\n",
        "\n",
        "# Define the objective function to be parallelized\n",
        "def objective(params):\n",
        "    learning_rate, batch_size, alpha = params\n",
        "\n",
        "    # Ensure batch_size is at least 1 to avoid division by zero\n",
        "    batch_size = max(1, int(batch_size))\n",
        "\n",
        "    student_model = models.Sequential([\n",
        "    layers.Input(shape=(2,)),\n",
        "    layers.Dense(64, activation='relu'),\n",
        "    layers.BatchNormalization(),\n",
        "    layers.Dropout(0.3),\n",
        "    layers.Dense(32, activation='relu', kernel_regularizer=tf.keras.regularizers.l2(0.01)),\n",
        "    layers.Dense(1)\n",
        "    ])\n",
        "\n",
        "    optimizer = tf.keras.optimizers.Adam(learning_rate=learning_rate)\n",
        "    student_model.compile(optimizer=optimizer)\n",
        "\n",
        "    beta = 0.01\n",
        "    num_epochs = 10\n",
        "    num_batches = len(x_train) // batch_size\n",
        "\n",
        "    for epoch in range(num_epochs):\n",
        "        for i in range(num_batches):\n",
        "            batch_indices = np.random.choice(len(x_train), size=batch_size, replace=False)\n",
        "            x_batch, y_batch, y_soft_batch = x_train[batch_indices], y_train[batch_indices], soft_labels[batch_indices]\n",
        "\n",
        "            with tf.GradientTape() as tape:\n",
        "                logits = student_model(x_batch, training=True)\n",
        "                y_batch = tf.reshape(y_batch, (-1, 1))\n",
        "                y_soft_batch = tf.reshape(y_soft_batch, (-1, 1))\n",
        "                loss_true = tf.keras.losses.binary_crossentropy(y_batch, logits, from_logits=True)\n",
        "                loss_soft = tf.keras.losses.binary_crossentropy(y_soft_batch, logits, from_logits=True)\n",
        "                regularization_loss = tf.add_n(student_model.losses) # Now student_model.losses will have regularization losses\n",
        "                loss = alpha * loss_true + (1 - alpha) * loss_soft + beta * regularization_loss\n",
        "\n",
        "            grads = tape.gradient(loss, student_model.trainable_variables)\n",
        "            student_model.optimizer.apply_gradients(zip(grads, student_model.trainable_variables))\n",
        "\n",
        "    student_model.compile(optimizer=optimizer, loss='binary_crossentropy', metrics=['accuracy'])\n",
        "    loss, accuracy = student_model.evaluate(x_test, y_test, verbose=0)\n",
        "    return loss\n",
        "\n",
        "# Parallelize the optimization process\n",
        "params_list = [np.random.rand(3) for _ in range(20)]  # 减少参数组合数量\n",
        "params_list = [(lr, max(32, int(bs)), alpha) for lr, bs, alpha in params_list]  # 限制batch size\n",
        "futures = client.map(objective, params_list)\n",
        "results = client.gather(futures)\n",
        "best_params = params_list[np.argmin(results)]\n",
        "print(f\"Best Parameters: {best_params}\")"
      ]
    },
    {
      "cell_type": "code",
      "execution_count": 4,
      "metadata": {
        "id": "HrVxvyTS7IeE",
        "colab": {
          "base_uri": "https://localhost:8080/"
        },
        "outputId": "9e46bb93-608c-4870-dc73-4e72b503ac6e"
      },
      "outputs": [
        {
          "output_type": "stream",
          "name": "stdout",
          "text": [
            "Epoch 1, Loss: 0.9128293395042419\n",
            "Epoch 2, Loss: 0.751204252243042\n",
            "Epoch 3, Loss: 0.7347972393035889\n",
            "Epoch 4, Loss: 0.7093442678451538\n",
            "Epoch 5, Loss: 0.713721513748169\n",
            "Epoch 6, Loss: 0.7065773010253906\n",
            "Epoch 7, Loss: 0.7036203145980835\n",
            "Epoch 8, Loss: 0.699465811252594\n",
            "Epoch 9, Loss: 0.6902196407318115\n",
            "Epoch 10, Loss: 0.7005982398986816\n",
            "Epoch 11, Loss: 0.6874117851257324\n",
            "Epoch 12, Loss: 0.6842068433761597\n",
            "Epoch 13, Loss: 0.7081402540206909\n",
            "Epoch 14, Loss: 0.7019612789154053\n",
            "Epoch 15, Loss: 0.6992825865745544\n",
            "Epoch 16, Loss: 0.6893647313117981\n",
            "Epoch 17, Loss: 0.6870936751365662\n",
            "Epoch 18, Loss: 0.6808288097381592\n",
            "Epoch 19, Loss: 0.6795141100883484\n",
            "Epoch 20, Loss: 0.6931314468383789\n",
            "\u001b[1m2/2\u001b[0m \u001b[32m━━━━━━━━━━━━━━━━━━━━\u001b[0m\u001b[37m\u001b[0m \u001b[1m0s\u001b[0m 26ms/step - accuracy: 0.4711 - loss: 6.8566 \n"
          ]
        },
        {
          "output_type": "execute_result",
          "data": {
            "text/plain": [
              "[6.814473628997803, 0.4722222089767456]"
            ]
          },
          "metadata": {},
          "execution_count": 4
        }
      ],
      "source": [
        "# Define the student model with optimized hyperparameters\n",
        "student_model = models.Sequential([\n",
        "    layers.Input(shape=(2,)),\n",
        "    layers.Dense(64, activation='relu'),\n",
        "    layers.BatchNormalization(),\n",
        "    layers.Dropout(0.3),\n",
        "    layers.Dense(32, activation='relu', kernel_regularizer=tf.keras.regularizers.l2(0.01)),\n",
        "    layers.Dense(1)\n",
        "])\n",
        "\n",
        "# Extract best hyperparameters\n",
        "best_learning_rate, best_batch_size, best_alpha = best_params\n",
        "lr_schedule = tf.keras.optimizers.schedules.ExponentialDecay(\n",
        "    initial_learning_rate=best_learning_rate,\n",
        "    decay_steps=1000,\n",
        "    decay_rate=0.9)\n",
        "optimizer = tf.keras.optimizers.Adam(learning_rate=lr_schedule)\n",
        "\n",
        "student_model.compile(optimizer=optimizer)\n",
        "\n",
        "# Custom training loop with optimized hyperparameters\n",
        "beta = 0.01  # Regularization term\n",
        "num_epochs = 20\n",
        "# Ensure batch size is at least 1 to avoid ZeroDivisionError\n",
        "batch_size = max(1, int(best_batch_size))  # Modified line\n",
        "num_batches = len(x_train) // batch_size\n",
        "\n",
        "# Train the teacher model outside the loop to get soft labels\n",
        "teacher_model = train_teacher_model(x_train, y_train)\n",
        "soft_labels = teacher_model.predict(x_train, verbose=0)\n",
        "\n",
        "for epoch in range(num_epochs):\n",
        "    for i in range(num_batches):\n",
        "        batch_indices = np.random.choice(len(x_train), size=batch_size, replace=False)\n",
        "        x_batch, y_batch, y_soft_batch = x_train[batch_indices], y_train[batch_indices], soft_labels[batch_indices]\n",
        "\n",
        "        with tf.GradientTape() as tape:\n",
        "            logits = student_model(x_batch, training=True)\n",
        "            y_batch = tf.reshape(y_batch, (-1, 1))\n",
        "            y_soft_batch = tf.reshape(y_soft_batch, (-1, 1))\n",
        "            loss_true = tf.keras.losses.binary_crossentropy(y_batch, logits, from_logits=True)\n",
        "            loss_soft = tf.keras.losses.binary_crossentropy(y_soft_batch, logits, from_logits=True)\n",
        "            regularization_loss = tf.add_n(student_model.losses)\n",
        "            loss = best_alpha * loss_true + (1 - best_alpha) * loss_soft + beta * regularization_loss\n",
        "\n",
        "        grads = tape.gradient(loss, student_model.trainable_variables)\n",
        "        student_model.optimizer.apply_gradients(zip(grads, student_model.trainable_variables))\n",
        "\n",
        "    print(f\"Epoch {epoch + 1}, Loss: {tf.reduce_mean(loss).numpy()}\")\n",
        "\n",
        "# Evaluate the student model\n",
        "student_model.compile(optimizer=optimizer, loss='binary_crossentropy', metrics=['accuracy'])\n",
        "student_model.evaluate(x_test, y_test)"
      ]
    },
    {
      "cell_type": "code",
      "source": [
        "from sklearn.metrics import roc_curve, roc_auc_score\n",
        "import matplotlib.pyplot as plt\n",
        "y_pred_probs = tf.sigmoid(student_model(x_test)).numpy().flatten()\n",
        "fpr, tpr, thresholds = roc_curve(y_test, y_pred_probs)\n",
        "auc_score = roc_auc_score(y_test, y_pred_probs)\n",
        "plt.plot(fpr, tpr, label=f'ROC Curve (AUC = {auc_score:.2f})')\n",
        "plt.plot([0, 1], [0, 1], 'k--', label='Random') # Diagonal line for random classifier\n",
        "plt.xlabel('False Positive Rate')\n",
        "plt.ylabel('True Positive Rate')\n",
        "plt.title('Receiver Operating Characteristic (ROC) Curve')\n",
        "plt.legend(loc='lower right')\n",
        "plt.show()"
      ],
      "metadata": {
        "colab": {
          "base_uri": "https://localhost:8080/",
          "height": 472
        },
        "id": "EQUdnLElu6iO",
        "outputId": "9a4e9832-d773-4554-ea5a-f7034a1a7d9c"
      },
      "execution_count": 5,
      "outputs": [
        {
          "output_type": "display_data",
          "data": {
            "text/plain": [
              "<Figure size 640x480 with 1 Axes>"
            ],
            "image/png": "[encoded data removed]"
          },
          "metadata": {}
        }
      ]
    },
    {
      "cell_type": "code",
      "source": [
        "auc_score"
      ],
      "metadata": {
        "colab": {
          "base_uri": "https://localhost:8080/"
        },
        "id": "qIg7TBmSv0Vj",
        "outputId": "4e13c4d1-32b6-478d-97c3-897e18ecb8ea"
      },
      "execution_count": 6,
      "outputs": [
        {
          "output_type": "execute_result",
          "data": {
            "text/plain": [
              "np.float64(0.6435185185185185)"
            ]
          },
          "metadata": {},
          "execution_count": 6
        }
      ]
    },
    {
      "cell_type": "code",
      "source": [
        "# Enhanced Knowledge Distillation with Multiple Threshold Analysis\n",
        "# Complete Implementation with Class Balance Robustness Checks\n",
        "\n",
        "import numpy as np\n",
        "import pandas as pd\n",
        "from sklearn.datasets import make_classification\n",
        "from sklearn.model_selection import train_test_split\n",
        "from sklearn.metrics import (accuracy_score, precision_score, recall_score,\n",
        "                             f1_score, roc_auc_score, roc_curve, confusion_matrix)\n",
        "from sklearn.neural_network import MLPClassifier\n",
        "from sklearn.preprocessing import StandardScaler\n",
        "import warnings\n",
        "warnings.filterwarnings('ignore')\n",
        "\n",
        "# Set random seeds for reproducibility\n",
        "np.random.seed(42)\n",
        "\n",
        "class MultipleThresholdAnalyzer:\n",
        "    def __init__(self, thresholds=[0.3, 0.5, 0.7, 0.9]):\n",
        "        self.thresholds = thresholds\n",
        "\n",
        "    def evaluate_thresholds(self, y_true, y_prob):\n",
        "        results = []\n",
        "        for threshold in self.thresholds:\n",
        "            y_pred = (y_prob >= threshold).astype(int)\n",
        "\n",
        "            metrics = {\n",
        "                'threshold': threshold,\n",
        "                'accuracy': accuracy_score(y_true, y_pred),\n",
        "                'precision': precision_score(y_true, y_pred, zero_division=0),\n",
        "                'recall': recall_score(y_true, y_pred, zero_division=0),\n",
        "                'f1': f1_score(y_true, y_pred, zero_division=0),\n",
        "                'auc': roc_auc_score(y_true, y_prob)\n",
        "            }\n",
        "\n",
        "            try:\n",
        "                tn, fp, fn, tp = confusion_matrix(y_true, y_pred).ravel()\n",
        "                metrics.update({\n",
        "                    'specificity': tn / (tn + fp),\n",
        "                    'fnr': fn / (fn + tp),\n",
        "                    'fpr': fp / (fp + tn)\n",
        "                })\n",
        "            except:\n",
        "                metrics.update({'specificity': 0, 'fnr': 0, 'fpr': 0})\n",
        "\n",
        "            results.append(metrics)\n",
        "        return pd.DataFrame(results)\n",
        "\n",
        "class DatasetBalancer:\n",
        "    @staticmethod\n",
        "    def adjust_class_balance(X, y, target_ratio):\n",
        "        pos_indices = np.where(y == 1)[0]\n",
        "        neg_indices = np.where(y == 0)[0]\n",
        "\n",
        "        n_neg = len(neg_indices)\n",
        "        n_pos = int(n_neg * target_ratio)\n",
        "\n",
        "        if n_pos < len(pos_indices):\n",
        "            pos_sample = np.random.choice(pos_indices, n_pos, replace=False)\n",
        "        else:\n",
        "            pos_sample = pos_indices\n",
        "\n",
        "        return X[np.concatenate([pos_sample, neg_indices])], y[np.concatenate([pos_sample, neg_indices])]\n",
        "\n",
        "    @staticmethod\n",
        "    def create_balance_report(X, y):\n",
        "        return {\n",
        "            'total_samples': len(y),\n",
        "            'positive_count': sum(y),\n",
        "            'negative_count': len(y) - sum(y),\n",
        "            'balance_ratio': sum(y)/len(y)\n",
        "        }\n",
        "\n",
        "class EnhancedDistillationFramework:\n",
        "    def __init__(self):\n",
        "        self.teacher = MLPClassifier(hidden_layer_sizes=(256, 128, 64), max_iter=1000,\n",
        "                                   early_stopping=True, random_state=42)\n",
        "        self.student = MLPClassifier(hidden_layer_sizes=(64, 32), max_iter=800,\n",
        "                                   early_stopping=True, random_state=42)\n",
        "        self.scaler = StandardScaler()\n",
        "        self.threshold_analyzer = MultipleThresholdAnalyzer()\n",
        "\n",
        "    def train_evaluate(self, X_train, X_test, y_train, y_test):\n",
        "        # Preprocess data\n",
        "        X_train_scaled = self.scaler.fit_transform(X_train)\n",
        "        X_test_scaled = self.scaler.transform(X_test)\n",
        "\n",
        "        # Train models\n",
        "        self.teacher.fit(X_train_scaled, y_train)\n",
        "        self.student.fit(X_train_scaled, y_train)\n",
        "\n",
        "        # Get probabilities\n",
        "        teacher_probs = self.teacher.predict_proba(X_test_scaled)[:, 1]\n",
        "        student_probs = self.student.predict_proba(X_test_scaled)[:, 1]\n",
        "\n",
        "        # Evaluate thresholds\n",
        "        teacher_results = self.threshold_analyzer.evaluate_thresholds(y_test, teacher_probs)\n",
        "        student_results = self.threshold_analyzer.evaluate_thresholds(y_test, student_probs)\n",
        "\n",
        "        return {\n",
        "            'teacher': teacher_results,\n",
        "            'student': student_results,\n",
        "            'teacher_probs': teacher_probs,\n",
        "            'student_probs': student_probs\n",
        "        }\n",
        "\n",
        "# Generate synthetic dataset\n",
        "X, y = make_classification(n_samples=10000, n_features=20, n_informative=15,\n",
        "                           n_redundant=5, weights=[0.7, 0.3], random_state=42)\n",
        "\n",
        "# Create different class balances\n",
        "balancer = DatasetBalancer()\n",
        "X_balanced, y_balanced = balancer.adjust_class_balance(X, y, target_ratio=1.0)\n",
        "X_imbalanced, y_imbalanced = balancer.adjust_class_balance(X, y, target_ratio=0.3)\n",
        "\n",
        "# Initialize framework\n",
        "framework = EnhancedDistillationFramework()\n",
        "\n",
        "# Train and evaluate on different balances\n",
        "original_results = framework.train_evaluate(*train_test_split(X, y, test_size=0.2, random_state=42))\n",
        "balanced_results = framework.train_evaluate(*train_test_split(X_balanced, y_balanced, test_size=0.2, random_state=42))\n",
        "imbalanced_results = framework.train_evaluate(*train_test_split(X_imbalanced, y_imbalanced, test_size=0.2, random_state=42))\n",
        "\n",
        "# Compile comprehensive results\n",
        "full_results = pd.concat([\n",
        "    original_results['teacher'].assign(model='teacher', balance='original'),\n",
        "    original_results['student'].assign(model='student', balance='original'),\n",
        "    balanced_results['teacher'].assign(model='teacher', balance='balanced'),\n",
        "    balanced_results['student'].assign(model='student', balance='balanced'),\n",
        "    imbalanced_results['teacher'].assign(model='teacher', balance='imbalanced'),\n",
        "    imbalanced_results['student'].assign(model='student', balance='imbalanced')\n",
        "])\n",
        "\n",
        "# Save results to CSV\n",
        "full_results.to_csv('threshold_analysis_results.csv', index=False)\n",
        "print(\"Analysis complete. Results saved to threshold_analysis_results_DC.csv\")\n"
      ],
      "metadata": {
        "colab": {
          "base_uri": "https://localhost:8080/"
        },
        "id": "scOaQt3zghc8",
        "outputId": "231145a8-03f7-4679-83eb-4e9fcfd67f49"
      },
      "execution_count": 7,
      "outputs": [
        {
          "output_type": "stream",
          "name": "stdout",
          "text": [
            "Analysis complete. Results saved to threshold_analysis_results_DC.csv\n"
          ]
        }
      ]
    }
  ],
  "metadata": {
    "colab": {
      "provenance": []
    },
    "kernelspec": {
      "display_name": "geospatial",
      "language": "python",
      "name": "python3"
    },
    "language_info": {
      "codemirror_mode": {
        "name": "ipython",
        "version": 3
      },
      "file_extension": ".py",
      "mimetype": "text/x-python",
      "name": "python",
      "nbconvert_exporter": "python",
      "pygments_lexer": "ipython3",
      "version": "3.10.13"
    }
  },
  "nbformat": 4,
  "nbformat_minor": 0
}